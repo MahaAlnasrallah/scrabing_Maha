{
 "cells": [
  {
   "cell_type": "markdown",
   "metadata": {},
   "source": [
    "# Web Scraping: The Guardian"
   ]
  },
  {
   "cell_type": "code",
   "execution_count": 1,
   "metadata": {},
   "outputs": [],
   "source": [
    "import requests\n",
    "from bs4 import BeautifulSoup\n",
    "import numpy as np\n",
    "import pandas as pd\n",
    "import time\n",
    "import os\n",
    "os.environ['http_proxy']=\"http://fp.mygazt.gov.sa:8080\"\n",
    "os.environ['https_proxy']=\"http://fp.mygazt.gov.sa:8080\""
   ]
  },
  {
   "cell_type": "code",
   "execution_count": 2,
   "metadata": {},
   "outputs": [],
   "source": [
    "url=\"https://aawsat.com/home/article/3464196/%d8%af%d8%b9%d9%85-%d9%85%d8%a7%d8%af%d9%8a-%d9%84%d9%84%d9%85%d9%86%d8%b4%d8%a2%d8%aa-%d8%a8%d9%84%d8%a7%d8%a6%d8%ad%d8%a9-%d8%a7%d9%84%d9%81%d9%88%d8%aa%d8%b1%d8%a9-%d8%a7%d9%84%d8%a5%d9%84%d9%83%d8%aa%d8%b1%d9%88%d9%86%d9%8a%d8%a9-%d9%81%d9%8a-%d8%a7%d9%84%d8%b3%d8%b9%d9%88%d8%af%d9%8a%d8%a9\""
   ]
  },
  {
   "cell_type": "code",
   "execution_count": 3,
   "metadata": {},
   "outputs": [
    {
     "data": {
      "text/plain": [
       "1"
      ]
     },
     "execution_count": 3,
     "metadata": {},
     "output_type": "execute_result"
    }
   ],
   "source": [
    "# Request\n",
    "r1 = requests.get(url)\n",
    "r1.status_code\n",
    "\n",
    "# We'll save in coverpage the cover page content\n",
    "coverpage = r1.content\n",
    "\n",
    "# Soup creation\n",
    "soup1 = BeautifulSoup(coverpage, 'html5lib')\n",
    "\n",
    "# News identification\n",
    "#coverpage_news = soup1.find_all('h3', class_='fc-item__title')\n",
    "coverpage_news = soup1.find_all(\"div\", {\"class\":\"node_new_body\"})\n",
    "len(coverpage_news)"
   ]
  },
  {
   "cell_type": "code",
   "execution_count": 4,
   "metadata": {},
   "outputs": [
    {
     "data": {
      "text/plain": [
       "[<div class=\"node_new_body\" itemprop=\"articleBody\">\n",
       "               <p>بعد أن قررت السعودية عبر مجلس الوزراء، أمس، تقديم دعم مالي للمنشآت المستهدفة بلائحة الفوترة الإلكترونية التي لا تتجاوز إيراداتها السنوية 3 ملايين ريال (813 ألف دولار)، كشف مختصون لـ«الشرق الأوسط» عن سعي البلاد نحو تحفيز وتنمية المنشآت الصغيرة والمتوسطة من أجل تحقيق مستهدفاتها المرسومة ضمن خطط البلاد الاقتصادية في المرحلة المقبلة. <br/>وأطلقت السعودية ممثلة في هيئة الزكاة والضريبة والجمارك، مؤخراً، تطبيقا للهواتف الذكية تحت اسم «زاتكا»، يساعد المكلفين على القيام بالخدمات بشكل ذاتي وسريع، وتسهيل استخدام وسائل رقمية متقدمة تضمن السرعة والكفاءة. <br/>وأوضح فضل البوعينين، عضو مجلس الشورى السعودي لـ«الشرق الأوسط»، أن الدولة تواصل تقديم برامجها ومبادراتها التحفيزية التي تشمل جميع المنشآت العاملة في القطاع الخاص، مبيناً أن تقديم دعم مالي للمنشآت المستهدفة في الفوترة الإلكترونية تعد خطوة مهمة تساعدها على النمو والتوسع لتحقيق مستهدفاتها المرسومة. <br/>وقال عضو مجلس الشورى، إن المنشآت الصغيرة والمتوسطة بشكل خاص تعتبر محركا رئيسيا للدول الكبرى، ما يجعل السعودية تركز على عليها بنظرة مختلفة من أجل حصر جميع التحديات التي تواجهها ومعالجتها فوراً لكي لا تتسبب في إعاقة نموها وتقدمها في المرحلة المقبلة.  وواصل فضل البوعينين، أن هيئة الزكاة والضريبة والجمارك تواصل تقديم جميع التسهيلات وكان آخرها إطلاق تطبيق «زاتكا» على الهواتف الذكية، في خطوة نحو تسريع جميع الخدمات وتقديم تجربة فريدة للمكلفين. <br/>من جانبه، أبان عبد الرحمن الجبيري، الخبير الاقتصادي لـ«الشرق الاوسط» أن تقديم الدعم المالي للمنشآت التي لا تتجاوز إيراداتها 3 ملايين ريال (813 ألف دولار)، محفز كبير للقطاع الخاص وتحديدا المنشآت الصغيرة والمتوسطة لكونها تنتظر المبادرات والبرامج التي تجعلها مستقرة وتمضي نحو تطوير أعمالها ليعود إيجابا على الاقتصاد الوطني. <br/>وأضاف الجبيري أن المملكة أنشأت هيئة خاصة من أجل تنظيم وتمكين المنشآت الصغيرة والمتوسطة وتقديم جميع الحلول المادية والتوجيهية لها، بالإضافة إلى البحث عن الفرص والابتكار التي تسهم في دعمها وتنميتها وفقاً لأفضل الممارسات العالمية.  ولفت الجبيري إلى أن المنشآت الصغيرة والمتوسطة تشكل نسبا عالية من كفاءة وأداء الاقتصاد في معظم الدول وتبلغ نسبة مساهمته في الناتج المحلي لمعظم الاقتصاديات العالمية أكثر من 60 في المائة، مما يتطلب تضافر الجهود لرفع مستوى الوعي الاستثماري في مجال حاضنات الأعمال وريادة الأعمال ومشاركتها في مكونات الاقتصاد الكلي لتكون رافدا مهما من روافد التنمية الاقتصادية في البلاد. وواصل الخبير الاقتصادي، أن المنشآت الصغيرة تساهم فعلياً في تخفيض معدلات البطالة وزيادة مساهمتها في إجمالي الناتج المحلي من 20 إلى 35 في المائة وفق ما أكدته مستهدفات «رؤية المملكة 2030». <br/>وتواصل السعودية جهودها لتحقيق مستهدفاتها في تحفيز القطاع الخاص وتقديم أفضل الحلول التي تسهم في التحول الرقمي والاستفادة من التقنيات الحديثة التي تسهل الإجراءات على الجهات العامة والخاصة والمستفيدين من خلال توفير البنية التحتية المناسبة والتي تتواءم مع جميع المشاريع المستقبلية.  وطبقت السعودية ممثلة في هيئة الزكاة والضريبة والجمارك، الفوترة الإلكترونية على مرحلتين، كانت الأولى منهما تكمن في عملية «الإصدار» مع نهاية العام المنصرم، حيث تشمل جميع المكلفين المسجلين في ضريبة القيمة المضافة (باستثناء غير المقيمين في المملكة) ومن ينيب عن المكلف بإصدار الفاتورة. وسيكون إصدار الفواتير الإلكترونية من خلال نظام متوافق وتكون الفاتورة متضمنة لكل العناصر المطلوبة بناءً على نوعها.</p><br/>\n",
       "               <!-- AsharqAlawsat/news-->\n",
       "   <div class=\"text-center\" id=\"div-gpt-ad-1519037710708-7\">\n",
       "   <script type=\"text/javascript\">\n",
       "   googletag.cmd.push(function() { googletag.display('div-gpt-ad-1519037710708-7'); });\n",
       "   </script>\n",
       "   </div>              <!-- AsharqAlawsat/news-->\n",
       "   <div class=\"text-center\" id=\"div-gpt-ad-1519037710708-8\">\n",
       "   <script type=\"text/javascript\">\n",
       "   googletag.cmd.push(function() { googletag.display('div-gpt-ad-1519037710708-8'); });\n",
       "   </script>\n",
       "   </div>                          </div>]"
      ]
     },
     "execution_count": 4,
     "metadata": {},
     "output_type": "execute_result"
    }
   ],
   "source": [
    "coverpage_news"
   ]
  },
  {
   "cell_type": "code",
   "execution_count": 5,
   "metadata": {},
   "outputs": [
    {
     "ename": "TypeError",
     "evalue": "'NoneType' object is not subscriptable",
     "output_type": "error",
     "traceback": [
      "\u001b[1;31m---------------------------------------------------------------------------\u001b[0m",
      "\u001b[1;31mTypeError\u001b[0m                                 Traceback (most recent call last)",
      "\u001b[1;32m<ipython-input-5-68a4a908e32c>\u001b[0m in \u001b[0;36m<module>\u001b[1;34m\u001b[0m\n\u001b[1;32m----> 1\u001b[1;33m \u001b[0mlink\u001b[0m \u001b[1;33m=\u001b[0m \u001b[0mcoverpage_news\u001b[0m\u001b[1;33m[\u001b[0m\u001b[1;36m0\u001b[0m\u001b[1;33m]\u001b[0m\u001b[1;33m.\u001b[0m\u001b[0mfind\u001b[0m\u001b[1;33m(\u001b[0m\u001b[1;34m'a'\u001b[0m\u001b[1;33m)\u001b[0m\u001b[1;33m[\u001b[0m\u001b[1;34m'href'\u001b[0m\u001b[1;33m]\u001b[0m\u001b[1;33m\u001b[0m\u001b[1;33m\u001b[0m\u001b[0m\n\u001b[0m\u001b[0;32m      2\u001b[0m \u001b[0mtitle\u001b[0m \u001b[1;33m=\u001b[0m \u001b[0mcoverpage_news\u001b[0m\u001b[1;33m[\u001b[0m\u001b[1;36m0\u001b[0m\u001b[1;33m]\u001b[0m\u001b[1;33m.\u001b[0m\u001b[0mfind\u001b[0m\u001b[1;33m(\u001b[0m\u001b[1;34m'a'\u001b[0m\u001b[1;33m)\u001b[0m\u001b[1;33m.\u001b[0m\u001b[0mget_text\u001b[0m\u001b[1;33m(\u001b[0m\u001b[1;33m)\u001b[0m\u001b[1;33m\u001b[0m\u001b[1;33m\u001b[0m\u001b[0m\n\u001b[0;32m      3\u001b[0m \u001b[1;33m\u001b[0m\u001b[0m\n\u001b[0;32m      4\u001b[0m \u001b[0marticle\u001b[0m \u001b[1;33m=\u001b[0m \u001b[0mrequests\u001b[0m\u001b[1;33m.\u001b[0m\u001b[0mget\u001b[0m\u001b[1;33m(\u001b[0m\u001b[0murl\u001b[0m\u001b[1;33m)\u001b[0m\u001b[1;33m\u001b[0m\u001b[1;33m\u001b[0m\u001b[0m\n\u001b[0;32m      5\u001b[0m \u001b[0marticle_content\u001b[0m \u001b[1;33m=\u001b[0m \u001b[0marticle\u001b[0m\u001b[1;33m.\u001b[0m\u001b[0mcontent\u001b[0m\u001b[1;33m\u001b[0m\u001b[1;33m\u001b[0m\u001b[0m\n",
      "\u001b[1;31mTypeError\u001b[0m: 'NoneType' object is not subscriptable"
     ]
    }
   ],
   "source": [
    "link = coverpage_news[0].find('a')['href']\n",
    "title = coverpage_news[0].find('a').get_text()\n",
    "\n",
    "article = requests.get(url)\n",
    "article_content = article.content\n",
    "soup_article = BeautifulSoup(article_content, 'html5lib')\n",
    "body = soup_article.find_all('div', class_='node_new_body')\n",
    "x = body[0].find_all('p')\n",
    "    \n",
    "# Unifying the paragraphs\n",
    "list_paragraphs = []\n",
    "for p in np.arange(0, len(x)):\n",
    "    paragraph = x[p].get_text()\n",
    "    list_paragraphs.append(paragraph)\n",
    "    final_article = \" \".join(list_paragraphs)"
   ]
  },
  {
   "cell_type": "code",
   "execution_count": 6,
   "metadata": {},
   "outputs": [
    {
     "data": {
      "text/plain": [
       "[<a class=\"\" href=\"https://www.facebook.com/asharqalawsat.a?ref=ts&amp;fref=ts\" target=\"_blank\">\n",
       "                 <i aria-hidden=\"true\" class=\"icon fa fa-facebook\"></i>\n",
       "               </a>,\n",
       " <a class=\"\" href=\"https://twitter.com/aawsat_News\" target=\"_blank\">\n",
       "                 <i aria-hidden=\"true\" class=\"icon fa fa-twitter\"></i>\n",
       "               </a>,\n",
       " <a class=\"hide\" href=\"/user\">العضوية\n",
       "                 <i aria-hidden=\"true\" class=\"icon fa fa-user\"></i>\n",
       "               </a>,\n",
       " <a class=\"\" href=\"https://aawsat.com/pdf/issue15797/index.html\" onclick=\"ga('send', 'event', 'PDF', 'Download', '');\" target=\"_blank\">\n",
       " \n",
       "                 PDF\n",
       "                 <i aria-hidden=\"true\" class=\"icon fa fa-file-pdf-o\"></i>\n",
       "               </a>,\n",
       " <a class=\"dropdown-toggle\" data-toggle=\"dropdown\" href=\"#\">\n",
       "                 <i aria-hidden=\"true\" class=\"icon fa fa-caret-down\"></i>\n",
       " \n",
       "                 عربي              </a>,\n",
       " <a href=\"https://english.aawsat.com\" target=\"_blank\"> English</a>,\n",
       " <a href=\"https://turkish.aawsat.com\" target=\"_blank\"> TÜRKÇE</a>,\n",
       " <a href=\"https://persian.aawsat.com\" target=\"_blank\"> Persian</a>,\n",
       " <a href=\"https://urdu.aawsat.com/\" target=\"_blank\"> اردو</a>,\n",
       " <a href=\"/home/international/home\" title=\"\">الرئيسية</a>,\n",
       " <a href=\"/home/international/section/first\" title=\"\">أولى</a>,\n",
       " <a class=\"dropdown-toggle\" data-toggle=\"dropdown\" href=\"/home/international/section/news\">\n",
       "     الأخبار    <b class=\"caret\"></b></a>,\n",
       " <a class=\"morelink\" href=\"/home/international/section/gulf\" title=\"الخليج\">الخليج</a>,\n",
       " <a class=\"morelink\" href=\"/home/international/section/arab-world\" title=\"العالم العربي\">العالم العربي</a>,\n",
       " <a class=\"morelink\" href=\"/home/international/section/world\" title=\"العالم\">العالم</a>,\n",
       " <a class=\"morelink\" href=\"/home/international/section/iran\" title=\"إيران\">إيران</a>,\n",
       " <a href=\"/home/international/opinion\" title=\"\">الرأي</a>,\n",
       " <a href=\"/home/international/section/economy\" title=\"\">الاقتصاد</a>,\n",
       " <a href=\"/home/international/section/sport\" title=\"\">الرياضة</a>,\n",
       " <a class=\"dropdown-toggle\" data-toggle=\"dropdown\" href=\"/home/international/section/supplements\">\n",
       "     الملاحق    <b class=\"caret\"></b></a>,\n",
       " <a class=\"morelink\" href=\"/home/international/section/fundamentalism\" title=\"منحنيات أصولية\">منحنيات أصولية</a>,\n",
       " <a class=\"morelink\" href=\"/home/international/section/press\" title=\"الإعلام\">الإعلام</a>,\n",
       " <a class=\"morelink\" href=\"/home/international/section/hassad\" title=\"حصاد الأسبوع\">حصاد الأسبوع</a>,\n",
       " <a class=\"morelink\" href=\"/home/international/section/travel\" title=\"سفر وسياحة\">سفر وسياحة</a>,\n",
       " <a class=\"morelink\" href=\"/home/international/section/information-technology\" title=\"تقنية المعلومات\">تقنية المعلومات</a>,\n",
       " <a class=\"morelink\" href=\"/home/international/section/culture\" title=\"ثقافة\">ثقافة</a>,\n",
       " <a class=\"morelink\" href=\"/home/international/section/vehicles\" title=\"سيارات\">سيارات</a>,\n",
       " <a class=\"morelink\" href=\"/home/international/section/cinema\" title=\"سينما\">سينما</a>,\n",
       " <a class=\"morelink\" href=\"/home/international/section/health\" title=\"صحتك\">صحتك</a>,\n",
       " <a class=\"morelink\" href=\"/home/international/section/realestate\" title=\"عقارات\">عقارات</a>,\n",
       " <a class=\"morelink\" href=\"/home/international/section/books\" title=\"كتب\">كتب</a>,\n",
       " <a class=\"morelink\" href=\"/home/international/section/arts\" title=\"الوتر السادس\">الوتر السادس</a>,\n",
       " <a class=\"morelink\" href=\"/home/international/section/food\" title=\"مذاقات\">مذاقات</a>,\n",
       " <a class=\"morelink\" href=\"/home/international/section/fashion\" title=\"لمسات\">لمسات</a>,\n",
       " <a class=\"morelink\" href=\"/home/international/section/investigation\" title=\"تحقيق\">تحقيق</a>,\n",
       " <a class=\"morelink\" href=\"/home/international/section/science\" title=\"علوم\">علوم</a>,\n",
       " <a class=\"morelink\" href=\"/home/international/section/issues\" title=\"قضايا\">قضايا</a>,\n",
       " <a class=\"morelink\" href=\"/home/international/section/environment\" title=\"بيئة\">بيئة</a>,\n",
       " <a href=\"/home/international/section/culture\" title=\"\">ثقافة</a>,\n",
       " <a href=\"/home/international/declassified\" title=\"\">ملفات الشرق</a>,\n",
       " <a href=\"/home/international/section/last-page\" title=\"\">الأخيرة</a>,\n",
       " <a href=\"/home/international/section/first\" title=\"\">أولى</a>,\n",
       " <a href=\"/home/international/section/world\" title=\"\">العالم</a>,\n",
       " <a href=\"/home/international/section/arab-world\" title=\"\">العالم العربي</a>,\n",
       " <a href=\"/home/international/section/gulf\" title=\"\">الخليج</a>,\n",
       " <a href=\"/home/international/section/iran\" title=\"\">إيران</a>,\n",
       " <a href=\"/home/international/section/economy\" title=\"\">الاقتصاد</a>,\n",
       " <a href=\"/home/international/section/sport\" title=\"\">الرياضة</a>,\n",
       " <a href=\"/home/international/section/last-page\" title=\"\">الأخيرة</a>,\n",
       " <a href=\"/home/international/section/news\" title=\"\">الأخبار</a>,\n",
       " <a href=\"/home/international/section/political\" title=\"\">منوعات</a>,\n",
       " <a href=\"/home/international/section/asharq-daily\" title=\"\">يوميات الشرق</a>,\n",
       " <a href=\"/home/international/section/information-technology\" title=\"\">تقنية المعلومات</a>,\n",
       " <a href=\"/home/international/section/culture\" title=\"\">ثقافة</a>,\n",
       " <a href=\"/home/international/section/books\" title=\"\">كتب</a>,\n",
       " <a href=\"/home/international/section/hassad\" title=\"\">حصاد الأسبوع</a>,\n",
       " <a href=\"/home/international/section/fundamentalism\" title=\"\">منحنيات أصولية</a>,\n",
       " <a href=\"/home/international/section/travel\" title=\"\">سفر وسياحة</a>,\n",
       " <a href=\"/home/international/section/education\" title=\"\">التعليم</a>,\n",
       " <a href=\"/home/international/section/vehicles\" title=\"\">سيارات</a>,\n",
       " <a href=\"/home/international/section/press\" title=\"\">الإعلام</a>,\n",
       " <a href=\"/home/international/section/cinema\" title=\"\">سينما</a>,\n",
       " <a href=\"/home/international/section/food\" title=\"\">مذاقات</a>,\n",
       " <a href=\"/home/international/section/health\" title=\"\">صحتك</a>,\n",
       " <a href=\"/home/international/section/fashion\" title=\"\">لمسات</a>,\n",
       " <a href=\"/home/international/section/arts\" title=\"\">الوتر السادس</a>,\n",
       " <a href=\"/home/international/section/realestate\" title=\"\">عقارات</a>,\n",
       " <a href=\"/home/international/section/science\" title=\"\">علوم</a>,\n",
       " <a href=\"/home/international/section/investigation\" title=\"\">تحقيق</a>,\n",
       " <a href=\"/home/international/section/economy\">الاقتصاد</a>,\n",
       " <a href=\"/cdn-cgi/l/email-protection#fd98949ed3929b9b949e98bd9c8e959c8f8c9c919c8a8e9c89d39e9290\" title=\"\">رئيس التحرير</a>,\n",
       " <a href=\"/home/page/129\" title=\"\">شروط الانتفاع</a>,\n",
       " <a href=\"/editorial-section\" title=\"\">هيئة التحرير</a>,\n",
       " <a href=\"http://www.alkhaleejiah.com\" target=\"_blank\" title=\"\">الإعلان</a>,\n",
       " <a href=\"http://www.saudidistribution.com\" target=\"_blank\" title=\"\">التوزيع</a>,\n",
       " <a href=\"http://www.saudidistribution.com\" target=\"_blank\" title=\"\">الاشتراكات</a>]"
      ]
     },
     "execution_count": 6,
     "metadata": {},
     "output_type": "execute_result"
    }
   ],
   "source": [
    "soup1.select(\"li > a\")"
   ]
  },
  {
   "cell_type": "code",
   "execution_count": 13,
   "metadata": {},
   "outputs": [],
   "source": [
    "# Empty lists for content, links and titles\n",
    "news_contents = []\n",
    "list_links = []\n",
    "list_titles = []\n",
    "number_of_articles=4\n",
    "for n in np.arange(0, number_of_articles):\n",
    "        \n",
    "    # We need to ignore \"live\" pages since they are not articles\n",
    "    #if \"live\" in coverpage_news[n].find('a')['href']:  \n",
    "        #continue\n",
    "    \n",
    "    # Getting the link of the article\n",
    "    #link = coverpage_news[n].find('a')['href']\n",
    "    #list_links.append(link)\n",
    "    \n",
    "    # Getting the title\n",
    "    #title = coverpage_news[n].find('a').get_text()\n",
    "    #list_titles.append(title)\n",
    "    \n",
    "    # Reading the content (it is divided in paragraphs)\n",
    "    article = requests.get(url)\n",
    "    article_content = article.content\n",
    "    soup_article = BeautifulSoup(article_content, 'html5lib')\n",
    "    body = soup_article.find_all('div', class_='node_new_body')\n",
    "    x = body[0].find_all('p')\n",
    "    \n",
    "    # Unifying the paragraphs\n",
    "    list_paragraphs = []\n",
    "    for p in np.arange(0, len(x)):\n",
    "        paragraph = x[p].get_text()\n",
    "        list_paragraphs.append(paragraph)\n",
    "        final_article = \" \".join(list_paragraphs)\n",
    "        \n",
    "    news_contents.append(final_article)"
   ]
  },
  {
   "cell_type": "code",
   "execution_count": 14,
   "metadata": {},
   "outputs": [
    {
     "data": {
      "text/plain": [
       "'بعد أن قررت السعودية عبر مجلس الوزراء، أمس، تقديم دعم مالي للمنشآت المستهدفة بلائحة الفوترة الإلكترونية التي لا تتجاوز إيراداتها السنوية 3 ملايين ريال (813 ألف دولار)، كشف مختصون لـ«الشرق الأوسط» عن سعي البلاد نحو تحفيز وتنمية المنشآت الصغيرة والمتوسطة من أجل تحقيق مستهدفاتها المرسومة ضمن خطط البلاد الاقتصادية في المرحلة المقبلة. وأطلقت السعودية ممثلة في هيئة الزكاة والضريبة والجمارك، مؤخراً، تطبيقا للهواتف الذكية تحت اسم «زاتكا»، يساعد المكلفين على القيام بالخدمات بشكل ذاتي وسريع، وتسهيل استخدام وسائل رقمية متقدمة تضمن السرعة والكفاءة. وأوضح فضل البوعينين، عضو مجلس الشورى السعودي لـ«الشرق الأوسط»، أن الدولة تواصل تقديم برامجها ومبادراتها التحفيزية التي تشمل جميع المنشآت العاملة في القطاع الخاص، مبيناً أن تقديم دعم مالي للمنشآت المستهدفة في الفوترة الإلكترونية تعد خطوة مهمة تساعدها على النمو والتوسع لتحقيق مستهدفاتها المرسومة. وقال عضو مجلس الشورى، إن المنشآت الصغيرة والمتوسطة بشكل خاص تعتبر محركا رئيسيا للدول الكبرى، ما يجعل السعودية تركز على عليها بنظرة مختلفة من أجل حصر جميع التحديات التي تواجهها ومعالجتها فوراً لكي لا تتسبب في إعاقة نموها وتقدمها في المرحلة المقبلة.  وواصل فضل البوعينين، أن هيئة الزكاة والضريبة والجمارك تواصل تقديم جميع التسهيلات وكان آخرها إطلاق تطبيق «زاتكا» على الهواتف الذكية، في خطوة نحو تسريع جميع الخدمات وتقديم تجربة فريدة للمكلفين. من جانبه، أبان عبد الرحمن الجبيري، الخبير الاقتصادي لـ«الشرق الاوسط» أن تقديم الدعم المالي للمنشآت التي لا تتجاوز إيراداتها 3 ملايين ريال (813 ألف دولار)، محفز كبير للقطاع الخاص وتحديدا المنشآت الصغيرة والمتوسطة لكونها تنتظر المبادرات والبرامج التي تجعلها مستقرة وتمضي نحو تطوير أعمالها ليعود إيجابا على الاقتصاد الوطني. وأضاف الجبيري أن المملكة أنشأت هيئة خاصة من أجل تنظيم وتمكين المنشآت الصغيرة والمتوسطة وتقديم جميع الحلول المادية والتوجيهية لها، بالإضافة إلى البحث عن الفرص والابتكار التي تسهم في دعمها وتنميتها وفقاً لأفضل الممارسات العالمية.  ولفت الجبيري إلى أن المنشآت الصغيرة والمتوسطة تشكل نسبا عالية من كفاءة وأداء الاقتصاد في معظم الدول وتبلغ نسبة مساهمته في الناتج المحلي لمعظم الاقتصاديات العالمية أكثر من 60 في المائة، مما يتطلب تضافر الجهود لرفع مستوى الوعي الاستثماري في مجال حاضنات الأعمال وريادة الأعمال ومشاركتها في مكونات الاقتصاد الكلي لتكون رافدا مهما من روافد التنمية الاقتصادية في البلاد. وواصل الخبير الاقتصادي، أن المنشآت الصغيرة تساهم فعلياً في تخفيض معدلات البطالة وزيادة مساهمتها في إجمالي الناتج المحلي من 20 إلى 35 في المائة وفق ما أكدته مستهدفات «رؤية المملكة 2030». وتواصل السعودية جهودها لتحقيق مستهدفاتها في تحفيز القطاع الخاص وتقديم أفضل الحلول التي تسهم في التحول الرقمي والاستفادة من التقنيات الحديثة التي تسهل الإجراءات على الجهات العامة والخاصة والمستفيدين من خلال توفير البنية التحتية المناسبة والتي تتواءم مع جميع المشاريع المستقبلية.  وطبقت السعودية ممثلة في هيئة الزكاة والضريبة والجمارك، الفوترة الإلكترونية على مرحلتين، كانت الأولى منهما تكمن في عملية «الإصدار» مع نهاية العام المنصرم، حيث تشمل جميع المكلفين المسجلين في ضريبة القيمة المضافة (باستثناء غير المقيمين في المملكة) ومن ينيب عن المكلف بإصدار الفاتورة. وسيكون إصدار الفواتير الإلكترونية من خلال نظام متوافق وتكون الفاتورة متضمنة لكل العناصر المطلوبة بناءً على نوعها.'"
      ]
     },
     "execution_count": 14,
     "metadata": {},
     "output_type": "execute_result"
    }
   ],
   "source": [
    "final_article"
   ]
  },
  {
   "cell_type": "markdown",
   "metadata": {},
   "source": [
    "Let's put them into:\n",
    "* a dataset which will the input of the models (`df_features`)\n",
    "* a dataset with the title and the link (`df_show_info`)"
   ]
  },
  {
   "cell_type": "code",
   "execution_count": 15,
   "metadata": {},
   "outputs": [],
   "source": [
    "# df_features\n",
    "df_features = pd.DataFrame(\n",
    "     {'Article Content': news_contents \n",
    "    })\n",
    "\n",
    "# df_show_info\n",
    "df_show_info = pd.DataFrame(\n",
    "    {'Article Title': list_titles,\n",
    "     'Article Link': list_links})"
   ]
  },
  {
   "cell_type": "code",
   "execution_count": 16,
   "metadata": {},
   "outputs": [
    {
     "data": {
      "text/html": [
       "<div>\n",
       "<style scoped>\n",
       "    .dataframe tbody tr th:only-of-type {\n",
       "        vertical-align: middle;\n",
       "    }\n",
       "\n",
       "    .dataframe tbody tr th {\n",
       "        vertical-align: top;\n",
       "    }\n",
       "\n",
       "    .dataframe thead th {\n",
       "        text-align: right;\n",
       "    }\n",
       "</style>\n",
       "<table border=\"1\" class=\"dataframe\">\n",
       "  <thead>\n",
       "    <tr style=\"text-align: right;\">\n",
       "      <th></th>\n",
       "      <th>Article Content</th>\n",
       "    </tr>\n",
       "  </thead>\n",
       "  <tbody>\n",
       "    <tr>\n",
       "      <th>0</th>\n",
       "      <td>بعد أن قررت السعودية عبر مجلس الوزراء، أمس، تق...</td>\n",
       "    </tr>\n",
       "    <tr>\n",
       "      <th>1</th>\n",
       "      <td>بعد أن قررت السعودية عبر مجلس الوزراء، أمس، تق...</td>\n",
       "    </tr>\n",
       "    <tr>\n",
       "      <th>2</th>\n",
       "      <td>بعد أن قررت السعودية عبر مجلس الوزراء، أمس، تق...</td>\n",
       "    </tr>\n",
       "    <tr>\n",
       "      <th>3</th>\n",
       "      <td>بعد أن قررت السعودية عبر مجلس الوزراء، أمس، تق...</td>\n",
       "    </tr>\n",
       "  </tbody>\n",
       "</table>\n",
       "</div>"
      ],
      "text/plain": [
       "                                     Article Content\n",
       "0  بعد أن قررت السعودية عبر مجلس الوزراء، أمس، تق...\n",
       "1  بعد أن قررت السعودية عبر مجلس الوزراء، أمس، تق...\n",
       "2  بعد أن قررت السعودية عبر مجلس الوزراء، أمس، تق...\n",
       "3  بعد أن قررت السعودية عبر مجلس الوزراء، أمس، تق..."
      ]
     },
     "execution_count": 16,
     "metadata": {},
     "output_type": "execute_result"
    }
   ],
   "source": [
    "df_features"
   ]
  },
  {
   "cell_type": "code",
   "execution_count": 17,
   "metadata": {},
   "outputs": [
    {
     "data": {
      "text/html": [
       "<div>\n",
       "<style scoped>\n",
       "    .dataframe tbody tr th:only-of-type {\n",
       "        vertical-align: middle;\n",
       "    }\n",
       "\n",
       "    .dataframe tbody tr th {\n",
       "        vertical-align: top;\n",
       "    }\n",
       "\n",
       "    .dataframe thead th {\n",
       "        text-align: right;\n",
       "    }\n",
       "</style>\n",
       "<table border=\"1\" class=\"dataframe\">\n",
       "  <thead>\n",
       "    <tr style=\"text-align: right;\">\n",
       "      <th></th>\n",
       "      <th>Article Title</th>\n",
       "      <th>Article Link</th>\n",
       "    </tr>\n",
       "  </thead>\n",
       "  <tbody>\n",
       "  </tbody>\n",
       "</table>\n",
       "</div>"
      ],
      "text/plain": [
       "Empty DataFrame\n",
       "Columns: [Article Title, Article Link]\n",
       "Index: []"
      ]
     },
     "execution_count": 17,
     "metadata": {},
     "output_type": "execute_result"
    }
   ],
   "source": [
    "df_show_info"
   ]
  },
  {
   "cell_type": "markdown",
   "metadata": {},
   "source": [
    "### Time Elapsed"
   ]
  },
  {
   "cell_type": "markdown",
   "metadata": {},
   "source": [
    "We are interested in how much time the script takes to get the news because this will impact directly on user experience. For this, we'll put it all into a single function and then call it:"
   ]
  },
  {
   "cell_type": "code",
   "execution_count": null,
   "metadata": {},
   "outputs": [],
   "source": [
    "def get_news_theguardian():\n",
    "    \n",
    "    # url definition\n",
    "    url = \"https://www.theguardian.com/uk\"\n",
    "    \n",
    "    # Request\n",
    "    r1 = requests.get(url)\n",
    "    r1.status_code\n",
    "\n",
    "    # We'll save in coverpage the cover page content\n",
    "    coverpage = r1.content\n",
    "\n",
    "    # Soup creation\n",
    "    soup1 = BeautifulSoup(coverpage, 'html5lib')\n",
    "\n",
    "    # News identification\n",
    "    coverpage_news = soup1.find_all('h3', class_='fc-item__title')\n",
    "    len(coverpage_news)\n",
    "    \n",
    "    number_of_articles = 5\n",
    "\n",
    "    # Empty lists for content, links and titles\n",
    "    news_contents = []\n",
    "    list_links = []\n",
    "    list_titles = []\n",
    "\n",
    "    for n in np.arange(0, number_of_articles):\n",
    "\n",
    "        # We need to ignore \"live\" pages since they are not articles\n",
    "        if \"live\" in coverpage_news[n].find('a')['href']:  \n",
    "            continue\n",
    "\n",
    "        # Getting the link of the article\n",
    "        link = coverpage_news[n].find('a')['href']\n",
    "        list_links.append(link)\n",
    "\n",
    "        # Getting the title\n",
    "        title = coverpage_news[n].find('a').get_text()\n",
    "        list_titles.append(title)\n",
    "\n",
    "        # Reading the content (it is divided in paragraphs)\n",
    "        article = requests.get(link)\n",
    "        article_content = article.content\n",
    "        soup_article = BeautifulSoup(article_content, 'html5lib')\n",
    "        body = soup_article.find_all('div', class_='article-body-commercial-selector article-body-viewer-selector dcr-ucgxn1')\n",
    "        x = body[0].find_all('p')\n",
    "\n",
    "        # Unifying the paragraphs\n",
    "        list_paragraphs = []\n",
    "        for p in np.arange(0, len(x)):\n",
    "            paragraph = x[p].get_text()\n",
    "            list_paragraphs.append(paragraph)\n",
    "            final_article = \" \".join(list_paragraphs)\n",
    "\n",
    "        news_contents.append(final_article)\n",
    "\n",
    "    # df_features\n",
    "    df_features = pd.DataFrame(\n",
    "         {'Content': news_contents \n",
    "        })\n",
    "\n",
    "    # df_show_info\n",
    "    df_show_info = pd.DataFrame(\n",
    "        {'Article Title': list_titles,\n",
    "         'Article Link': list_links,\n",
    "         'Newspaper': 'The Guardian'})\n",
    "\n",
    "    \n",
    "    return (df_features, df_show_info)"
   ]
  },
  {
   "cell_type": "code",
   "execution_count": null,
   "metadata": {},
   "outputs": [],
   "source": [
    "start = time.time()\n",
    "x, y = get_news_theguardian()\n",
    "end =time.time()\n",
    "te = end-start\n",
    "print(\"The time elapsed is %f seconds\" %(te))"
   ]
  },
  {
   "cell_type": "code",
   "execution_count": null,
   "metadata": {},
   "outputs": [],
   "source": [
    "x"
   ]
  }
 ],
 "metadata": {
  "kernelspec": {
   "display_name": "Python 3",
   "language": "python",
   "name": "python3"
  },
  "language_info": {
   "codemirror_mode": {
    "name": "ipython",
    "version": 3
   },
   "file_extension": ".py",
   "mimetype": "text/x-python",
   "name": "python",
   "nbconvert_exporter": "python",
   "pygments_lexer": "ipython3",
   "version": "3.8.8"
  }
 },
 "nbformat": 4,
 "nbformat_minor": 2
}
